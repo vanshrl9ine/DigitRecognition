{
 "cells": [
  {
   "cell_type": "code",
   "execution_count": 1,
   "id": "6436137f",
   "metadata": {},
   "outputs": [
    {
     "name": "stdout",
     "output_type": "stream",
     "text": [
      "Epoch 1/10\n",
      "469/469 [==============================] - 35s 70ms/step - loss: 0.4098 - accuracy: 0.8723 - val_loss: 0.0667 - val_accuracy: 0.9798\n",
      "Epoch 2/10\n",
      "469/469 [==============================] - 31s 66ms/step - loss: 0.1221 - accuracy: 0.9659 - val_loss: 0.0437 - val_accuracy: 0.9859\n",
      "Epoch 3/10\n",
      "469/469 [==============================] - 31s 66ms/step - loss: 0.0838 - accuracy: 0.9766 - val_loss: 0.0365 - val_accuracy: 0.9881\n",
      "Epoch 4/10\n",
      "469/469 [==============================] - 31s 67ms/step - loss: 0.0677 - accuracy: 0.9808 - val_loss: 0.0318 - val_accuracy: 0.9894\n",
      "Epoch 5/10\n",
      "469/469 [==============================] - 35s 75ms/step - loss: 0.0544 - accuracy: 0.9845 - val_loss: 0.0326 - val_accuracy: 0.9888\n",
      "Epoch 6/10\n",
      "469/469 [==============================] - 31s 66ms/step - loss: 0.0489 - accuracy: 0.9862 - val_loss: 0.0335 - val_accuracy: 0.9887\n",
      "Epoch 7/10\n",
      "469/469 [==============================] - 32s 69ms/step - loss: 0.0401 - accuracy: 0.9884 - val_loss: 0.0336 - val_accuracy: 0.9896\n",
      "Epoch 8/10\n",
      "469/469 [==============================] - 43s 93ms/step - loss: 0.0374 - accuracy: 0.9892 - val_loss: 0.0267 - val_accuracy: 0.9923\n",
      "Epoch 9/10\n",
      "469/469 [==============================] - 32s 67ms/step - loss: 0.0330 - accuracy: 0.9909 - val_loss: 0.0274 - val_accuracy: 0.9918\n",
      "Epoch 10/10\n",
      "469/469 [==============================] - 31s 67ms/step - loss: 0.0283 - accuracy: 0.9918 - val_loss: 0.0286 - val_accuracy: 0.9916\n",
      "313/313 [==============================] - 3s 8ms/step - loss: 0.0286 - accuracy: 0.9916\n",
      "Test Loss: 0.028583310544490814\n",
      "Test Accuracy: 0.991599977016449\n"
     ]
    }
   ],
   "source": [
    "import tensorflow as tf\n",
    "from tensorflow.keras.datasets import mnist\n",
    "from tensorflow.keras.models import Sequential\n",
    "from tensorflow.keras.layers import Conv2D, MaxPooling2D, Flatten, Dense, Dropout\n",
    "\n",
    "# Load and preprocess the MNIST dataset\n",
    "(x_train, y_train), (x_test, y_test) = mnist.load_data()\n",
    "x_train = x_train.reshape(-1, 28, 28, 1) / 255.0\n",
    "x_test = x_test.reshape(-1, 28, 28, 1) / 255.0\n",
    "y_train = tf.keras.utils.to_categorical(y_train, num_classes=10)\n",
    "y_test = tf.keras.utils.to_categorical(y_test, num_classes=10)\n",
    "\n",
    "# Design the model architecture\n",
    "model = Sequential()\n",
    "model.add(Conv2D(32, (3, 3), activation='relu', input_shape=(28, 28, 1)))\n",
    "model.add(MaxPooling2D((2, 2)))\n",
    "model.add(Conv2D(64, (3, 3), activation='relu'))\n",
    "model.add(MaxPooling2D((2, 2)))\n",
    "model.add(Conv2D(64, (3, 3), activation='relu'))\n",
    "model.add(Flatten())\n",
    "model.add(Dense(64, activation='relu'))\n",
    "model.add(Dropout(0.5))\n",
    "model.add(Dense(10, activation='softmax'))\n",
    "\n",
    "# Compile the model\n",
    "model.compile(optimizer='adam', loss='categorical_crossentropy', metrics=['accuracy'])\n",
    "\n",
    "# Train the model\n",
    "model.fit(x_train, y_train, batch_size=128, epochs=10, validation_data=(x_test, y_test))\n",
    "\n",
    "# Evaluate the model\n",
    "loss, accuracy = model.evaluate(x_test, y_test)\n",
    "print(\"Test Loss:\", loss)\n",
    "print(\"Test Accuracy:\", accuracy)\n"
   ]
  },
  {
   "cell_type": "code",
   "execution_count": 2,
   "id": "0c4e97a0",
   "metadata": {},
   "outputs": [
    {
     "name": "stderr",
     "output_type": "stream",
     "text": [
      "WARNING:absl:Found untraced functions such as _jit_compiled_convolution_op, _jit_compiled_convolution_op, _jit_compiled_convolution_op while saving (showing 3 of 3). These functions will not be directly callable after loading.\n"
     ]
    },
    {
     "name": "stdout",
     "output_type": "stream",
     "text": [
      "INFO:tensorflow:Assets written to: handwritten4.model\\assets\n"
     ]
    },
    {
     "name": "stderr",
     "output_type": "stream",
     "text": [
      "INFO:tensorflow:Assets written to: handwritten4.model\\assets\n"
     ]
    }
   ],
   "source": [
    "model.save('handwritten4.model')"
   ]
  },
  {
   "cell_type": "code",
   "execution_count": null,
   "id": "d4e1a699",
   "metadata": {},
   "outputs": [],
   "source": [
    "# image_number=0\n",
    "# while os.path.isfile(f\"digits/digit{image_number}.png\"):\n",
    "#     try:\n",
    "#         img = cv2.imread(f\"digits/digit{image_number}.png\")[:,:,0]\n",
    "#         img=np.invert(np.array([img]))\n",
    "#         prediction=model.predict(img)\n",
    "#         print(f\"this digit is probably a {np.argmax(prediction)}\")\n",
    "# #         plt.imshow(img[0],cmap=plt.cm.binary)\n",
    "# #         plt.show()\n",
    "        \n",
    "#     except:\n",
    "#         print(\"error\")\n",
    "#     finally:\n",
    "#         image_number+=1"
   ]
  }
 ],
 "metadata": {
  "kernelspec": {
   "display_name": "Python 3 (ipykernel)",
   "language": "python",
   "name": "python3"
  },
  "language_info": {
   "codemirror_mode": {
    "name": "ipython",
    "version": 3
   },
   "file_extension": ".py",
   "mimetype": "text/x-python",
   "name": "python",
   "nbconvert_exporter": "python",
   "pygments_lexer": "ipython3",
   "version": "3.10.9"
  }
 },
 "nbformat": 4,
 "nbformat_minor": 5
}
