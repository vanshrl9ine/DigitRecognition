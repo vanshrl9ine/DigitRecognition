{
 "cells": [
  {
   "cell_type": "code",
   "execution_count": 1,
   "id": "fbccadbc",
   "metadata": {},
   "outputs": [],
   "source": [
    "import os\n",
    "import cv2\n",
    "import numpy as np\n",
    "import tensorflow as tf\n",
    "import matplotlib.pyplot as plt"
   ]
  },
  {
   "cell_type": "code",
   "execution_count": 2,
   "id": "be062b23",
   "metadata": {},
   "outputs": [],
   "source": [
    "# mnist=tf.keras.datasets.mnist\n",
    "# (x_train,y_train),(x_test,y_test)=mnist.load_data()"
   ]
  },
  {
   "cell_type": "code",
   "execution_count": 3,
   "id": "df1d4994",
   "metadata": {},
   "outputs": [],
   "source": [
    "# x_train=tf.keras.utils.normalize(x_train,axis=1)\n",
    "# x_test=tf.keras.utils.normalize(x_test,axis=1)"
   ]
  },
  {
   "cell_type": "code",
   "execution_count": 4,
   "id": "95d152fe",
   "metadata": {},
   "outputs": [],
   "source": [
    "# model=tf.keras.models.Sequential()\n",
    "# model.add(tf.keras.layers.Flatten(input_shape=(28,28)))\n",
    "# model.add(tf.keras.layers.Dense(128,activation='relu'))\n",
    "# model.add(tf.keras.layers.Dense(128,activation='relu'))\n",
    "# model.add(tf.keras.layers.Dense(10,activation='softmax'))\n",
    "\n"
   ]
  },
  {
   "cell_type": "code",
   "execution_count": 5,
   "id": "f5047f3c",
   "metadata": {},
   "outputs": [],
   "source": [
    "# model.compile(optimizer='adam',loss='sparse_categorical_crossentropy',metrics=['accuracy'])\n",
    "# model.fit(x_train,y_train,epochs=20)\n",
    "# model.save('handwritten.model')"
   ]
  },
  {
   "cell_type": "code",
   "execution_count": 6,
   "id": "e0462ee6",
   "metadata": {},
   "outputs": [],
   "source": [
    "model=tf.keras.models.load_model('handwritten.model')"
   ]
  },
  {
   "cell_type": "code",
   "execution_count": 7,
   "id": "92118832",
   "metadata": {},
   "outputs": [],
   "source": [
    "# loss,accuracy=model.evaluate(x_test,y_test)\n",
    "# print(loss)\n",
    "# print(accuracy)"
   ]
  },
  {
   "cell_type": "code",
   "execution_count": 9,
   "id": "40dd14c7",
   "metadata": {},
   "outputs": [
    {
     "name": "stdout",
     "output_type": "stream",
     "text": [
      "1/1 [==============================] - 0s 71ms/step\n",
      "this digit is probably a 0\n",
      "1/1 [==============================] - 0s 26ms/step\n",
      "this digit is probably a 1\n",
      "1/1 [==============================] - 0s 26ms/step\n",
      "this digit is probably a 2\n",
      "1/1 [==============================] - 0s 26ms/step\n",
      "this digit is probably a 3\n",
      "1/1 [==============================] - 0s 29ms/step\n",
      "this digit is probably a 4\n",
      "1/1 [==============================] - 0s 25ms/step\n",
      "this digit is probably a 5\n",
      "1/1 [==============================] - 0s 26ms/step\n",
      "this digit is probably a 5\n",
      "1/1 [==============================] - 0s 27ms/step\n",
      "this digit is probably a 7\n",
      "1/1 [==============================] - 0s 26ms/step\n",
      "this digit is probably a 8\n",
      "1/1 [==============================] - 0s 21ms/step\n",
      "this digit is probably a 4\n"
     ]
    }
   ],
   "source": [
    "image_number=0\n",
    "while os.path.isfile(f\"digits/digit{image_number}.png\"):\n",
    "    try:\n",
    "        img = cv2.imread(f\"digits/digit{image_number}.png\")[:,:,0]\n",
    "        img=np.invert(np.array([img]))\n",
    "        prediction=model.predict(img)\n",
    "        print(f\"this digit is probably a {np.argmax(prediction)}\")\n",
    "#         plt.imshow(img[0],cmap=plt.cm.binary)\n",
    "#         plt.show()\n",
    "        \n",
    "    except:\n",
    "        print(\"error\")\n",
    "    finally:\n",
    "        image_number+=1"
   ]
  },
  {
   "cell_type": "code",
   "execution_count": null,
   "id": "831ad4fa",
   "metadata": {},
   "outputs": [],
   "source": []
  }
 ],
 "metadata": {
  "kernelspec": {
   "display_name": "Python 3 (ipykernel)",
   "language": "python",
   "name": "python3"
  },
  "language_info": {
   "codemirror_mode": {
    "name": "ipython",
    "version": 3
   },
   "file_extension": ".py",
   "mimetype": "text/x-python",
   "name": "python",
   "nbconvert_exporter": "python",
   "pygments_lexer": "ipython3",
   "version": "3.10.9"
  }
 },
 "nbformat": 4,
 "nbformat_minor": 5
}
